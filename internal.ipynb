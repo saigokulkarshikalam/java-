{
 "cells": [
  {
   "cell_type": "markdown",
   "id": "b95ab2fe",
   "metadata": {},
   "source": [
    "\n",
    "WEEK 8 – Diffie-Hellman Key Exchange"
   ]
  },
  {
   "cell_type": "code",
   "execution_count": null,
   "id": "0d5fc6c0",
   "metadata": {},
   "outputs": [],
   "source": [
    "# Diffie-Hellman Key Exchange\n",
    "def power_mod(base, exponent, modulus):\n",
    "    return pow(base, exponent, modulus)\n",
    "\n",
    "p = 23  # prime number\n",
    "g = 5   # generator\n",
    "\n",
    "a = 6   # Alice's private key\n",
    "b = 15  # Bob's private key\n",
    "\n",
    "A = power_mod(g, a, p)  # Alice's public key\n",
    "B = power_mod(g, b, p)  # Bob's public key\n",
    "\n",
    "shared_secret_alice = power_mod(B, a, p)\n",
    "shared_secret_bob = power_mod(A, b, p)\n",
    "\n",
    "print(\"Shared Secret (Alice):\", shared_secret_alice)\n",
    "print(\"Shared Secret (Bob):\", shared_secret_bob)"
   ]
  },
  {
   "cell_type": "markdown",
   "id": "17a5d37e",
   "metadata": {},
   "source": [
    "**WEEK 9 – SHA-256 Hash Function**\n"
   ]
  },
  {
   "cell_type": "code",
   "execution_count": null,
   "id": "c11a8de0",
   "metadata": {},
   "outputs": [],
   "source": [
    "import hashlib\n",
    "\n",
    "def sha256_hex(msg: bytes) -> str:\n",
    "    h = hashlib.sha256()\n",
    "    h.update(msg)\n",
    "    return h.hexdigest()\n",
    "\n",
    "messages = [b\"\", b\"abc\", b\"Hello abc\", b\"Hai abc\"]\n",
    "\n",
    "for m in messages:\n",
    "    print(f\"Message: {m}\")\n",
    "    print(f\"SHA256: {sha256_hex(m)}\\n\")"
   ]
  },
  {
   "cell_type": "markdown",
   "id": "5284420f",
   "metadata": {},
   "source": [
    "WEEK 10 – Digital Signature Standard (DSS/DSA)"
   ]
  },
  {
   "cell_type": "code",
   "execution_count": null,
   "id": "ec946d9b",
   "metadata": {},
   "outputs": [],
   "source": [
    "from cryptography.hazmat.primitives.asymmetric import dsa\n",
    "from cryptography.hazmat.primitives import hashes\n",
    "\n",
    "def generate_keys():\n",
    "    private_key = dsa.generate_private_key(key_size=1024)\n",
    "    public_key = private_key.public_key()\n",
    "    return private_key, public_key\n",
    "\n",
    "def sign_message(private_key, message):\n",
    "    return private_key.sign(message, hashes.SHA256())\n",
    "\n",
    "def verify_signature(public_key, message, signature):\n",
    "    try:\n",
    "        public_key.verify(signature, message, hashes.SHA256())\n",
    "        return True\n",
    "    except Exception:\n",
    "        return False\n",
    "\n",
    "message = b\"Hello, this message will be signed.\"\n",
    "\n",
    "priv, pub = generate_keys()\n",
    "signature = sign_message(priv, message)\n",
    "\n",
    "print(\"Signature (Hex):\", signature.hex())\n",
    "print(\"Verification:\", verify_signature(pub, message, signature))"
   ]
  },
  {
   "cell_type": "markdown",
   "id": "b716fcb5",
   "metadata": {},
   "source": [
    "WEEK 11 – SSL and Intrusion Detection System (IDS)\n",
    "\n",
    "Server Code"
   ]
  },
  {
   "cell_type": "code",
   "execution_count": null,
   "id": "37879675",
   "metadata": {},
   "outputs": [],
   "source": [
    "import socket, ssl\n",
    "\n",
    "server_socket = socket.socket(socket.AF_INET, socket.SOCK_STREAM)\n",
    "ssl_context = ssl.SSLContext(ssl.PROTOCOL_TLS_SERVER)\n",
    "ssl_context.load_cert_chain(certfile=\"server.crt\", keyfile=\"server.key\")\n",
    "\n",
    "server_socket.bind(('localhost', 8443))\n",
    "server_socket.listen(5)\n",
    "print(\"SSL Server running...\")\n",
    "\n",
    "with ssl_context.wrap_socket(server_socket, server_side=True) as ssock:\n",
    "    conn, addr = ssock.accept()\n",
    "    data = conn.recv(1024).decode()\n",
    "    print(\"Received:\", data)\n",
    "    conn.sendall(b\"Hello from SSL Server!\")\n",
    "    conn.close()"
   ]
  },
  {
   "cell_type": "markdown",
   "id": "a3067832",
   "metadata": {},
   "source": [
    "Client Code"
   ]
  },
  {
   "cell_type": "code",
   "execution_count": null,
   "id": "280d7c87",
   "metadata": {},
   "outputs": [],
   "source": [
    "import socket, ssl\n",
    "\n",
    "hostname = 'localhost'\n",
    "\n",
    "# Create an SSL context that ignores certificate verification (for demo)\n",
    "context = ssl._create_unverified_context()\n",
    "\n",
    "with socket.create_connection((hostname, 8443)) as sock:\n",
    "    with context.wrap_socket(sock, server_hostname=hostname) as ssock:\n",
    "        print(\"✅ SSL connection established.\")\n",
    "        ssock.sendall(b\"Hello from SSL Client!\")\n",
    "        data = ssock.recv(1024).decode()\n",
    "        print(\"Received:\", data)"
   ]
  },
  {
   "cell_type": "markdown",
   "id": "ba78acef",
   "metadata": {},
   "source": [
    "generate_cert.py"
   ]
  },
  {
   "cell_type": "code",
   "execution_count": null,
   "id": "0eedb1b6",
   "metadata": {},
   "outputs": [],
   "source": [
    "from cryptography import x509\n",
    "from cryptography.x509.oid import NameOID\n",
    "from cryptography.hazmat.primitives import hashes, serialization\n",
    "from cryptography.hazmat.primitives.asymmetric import rsa\n",
    "from datetime import datetime, timedelta\n",
    "\n",
    "# Generate private key\n",
    "key = rsa.generate_private_key(public_exponent=65537, key_size=2048)\n",
    "\n",
    "# Write private key to file\n",
    "with open(\"server.key\", \"wb\") as f:\n",
    "    f.write(key.private_bytes(\n",
    "        encoding=serialization.Encoding.PEM,\n",
    "        format=serialization.PrivateFormat.TraditionalOpenSSL,\n",
    "        encryption_algorithm=serialization.NoEncryption()\n",
    "    ))\n",
    "\n",
    "# Build self-signed certificate\n",
    "subject = issuer = x509.Name([\n",
    "    x509.NameAttribute(NameOID.COUNTRY_NAME, \"IN\"),\n",
    "    x509.NameAttribute(NameOID.STATE_OR_PROVINCE_NAME, \"Telangana\"),\n",
    "    x509.NameAttribute(NameOID.LOCALITY_NAME, \"Hyderabad\"),\n",
    "    x509.NameAttribute(NameOID.ORGANIZATION_NAME, \"SSL Demo\"),\n",
    "    x509.NameAttribute(NameOID.COMMON_NAME, \"localhost\"),\n",
    "])\n",
    "\n",
    "cert = (\n",
    "    x509.CertificateBuilder()\n",
    "    .subject_name(subject)\n",
    "    .issuer_name(issuer)\n",
    "    .public_key(key.public_key())\n",
    "    .serial_number(x509.random_serial_number())\n",
    "    .not_valid_before(datetime.utcnow())\n",
    "    .not_valid_after(datetime.utcnow() + timedelta(days=365))\n",
    "    .sign(key, hashes.SHA256())\n",
    ")\n",
    "\n",
    "# Write certificate to file\n",
    "with open(\"server.crt\", \"wb\") as f:\n",
    "    f.write(cert.public_bytes(serialization.Encoding.PEM))\n",
    "\n",
    "print(\"✅ Generated server.crt and server.key successfully!\")"
   ]
  }
 ],
 "metadata": {
  "language_info": {
   "name": "python"
  }
 },
 "nbformat": 4,
 "nbformat_minor": 5
}
